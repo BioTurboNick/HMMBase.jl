{
 "cells": [
  {
   "cell_type": "markdown",
   "metadata": {},
   "source": [
    "# Maximum a Posteriori"
   ]
  },
  {
   "cell_type": "code",
   "execution_count": 1,
   "metadata": {},
   "outputs": [],
   "source": [
    "using Distributions\n",
    "using HMMBase\n",
    "using PyPlot\n",
    "using Seaborn\n",
    "\n",
    "rc(\"axes\", xmargin = 0) # hide\n",
    "set_style(\"whitegrid\")  # hide"
   ]
  },
  {
   "cell_type": "markdown",
   "metadata": {},
   "source": [
    "Let's consider a simple time series with one outlier:"
   ]
  },
  {
   "cell_type": "code",
   "execution_count": 2,
   "metadata": {},
   "outputs": [
    {
     "data": {
      "image/png": "[encoded data removed]",
      "text/plain": [
       "PyPlot.Figure(PyObject <Figure size 648x144 with 1 Axes>)"
      ]
     },
     "execution_count": 2,
     "metadata": {},
     "output_type": "execute_result"
    }
   ],
   "source": [
    "y = rand(1000)\n",
    "y[100] = 10000\n",
    "figure(figsize = (9, 2)) # hide\n",
    "plot(y)\n",
    "gcf() # hide"
   ]
  },
  {
   "cell_type": "markdown",
   "metadata": {},
   "source": [
    "An MLE approach for the observations distributions parameters\n",
    "may fail with a singularity (variance = 0) if an outlier\n",
    "becomes the only observation associated to some state:"
   ]
  },
  {
   "cell_type": "code",
   "execution_count": 3,
   "metadata": {},
   "outputs": [
    {
     "name": "stdout",
     "output_type": "stream",
     "text": [
      "Iteration 0: logtot = -4.995120506098963e7\n",
      "Iteration 1: logtot = -177.66544956990887\n",
      "Iteration 2: logtot = -39.036419273089976\n",
      "Iteration 3: logtot = NaN\n",
      "ArgCheck.CheckError(\"isprobvec(hmm.a) must hold. Got\\nhmm.a => [NaN, NaN]\")\n"
     ]
    }
   ],
   "source": [
    "hmm = HMM([0.9 0.1; 0.1 0.9], [Normal(0, 1), Normal(5, 1)])\n",
    "try\n",
    "    fit_mle(hmm, y, display = :iter)\n",
    "catch e\n",
    "    println(e)\n",
    "end"
   ]
  },
  {
   "cell_type": "markdown",
   "metadata": {},
   "source": [
    "We can avoid this by putting a prior on the variance:"
   ]
  },
  {
   "cell_type": "code",
   "execution_count": 4,
   "metadata": {},
   "outputs": [
    {
     "name": "stdout",
     "output_type": "stream",
     "text": [
      "Iteration 0: logtot = -4.995120506098963e7\n",
      "Iteration 1: logtot = -176.7826667493834\n",
      "Iteration 2: logtot = -171.0715560431436\n",
      "Iteration 3: logtot = -171.0715560431436\n",
      "EM converged in 3 iterations, logtot = -171.0715560431436\n"
     ]
    },
    {
     "data": {
      "image/png": "[encoded data removed]",
      "text/plain": [
       "PyPlot.Figure(PyObject <Figure size 288x216 with 1 Axes>)"
      ]
     },
     "execution_count": 4,
     "metadata": {},
     "output_type": "execute_result"
    }
   ],
   "source": [
    "import ConjugatePriors: InverseGamma, NormalKnownMu, posterior_canon\n",
    "import StatsBase: Weights\n",
    "\n",
    "function fit_map(::Type{<:Normal}, observations, responsibilities)\n",
    "    μ = mean(observations, Weights(responsibilities))\n",
    "\n",
    "    ss = suffstats(NormalKnownMu(μ), observations, responsibilities)\n",
    "    prior = InverseGamma(2, 1)\n",
    "    posterior = posterior_canon(prior, ss)\n",
    "    σ2 = mode(posterior)\n",
    "\n",
    "    Normal(μ, sqrt(σ2))\n",
    "end\n",
    "\n",
    "hmm, hist = fit_mle(hmm, y, estimator = fit_map, display = :iter)\n",
    "figure(figsize = (4, 3)) # hide\n",
    "plot(hist.logtots)\n",
    "xlabel(\"Iteration\") # hide\n",
    "ylabel(\"Log-likelihood\") # hide\n",
    "gcf() # hide"
   ]
  },
  {
   "cell_type": "code",
   "execution_count": 5,
   "metadata": {},
   "outputs": [
    {
     "data": {
      "text/plain": [
       "2-element Array{Distributions.Distribution{Distributions.Univariate,S} where S<:Distributions.ValueSupport,1}:\n",
       " Distributions.Normal{Float64}(μ=0.49576380243596535, σ=0.2874264872687068)\n",
       " Distributions.Normal{Float64}(μ=10000.0, σ=0.5345224838248488)"
      ]
     },
     "execution_count": 5,
     "metadata": {},
     "output_type": "execute_result"
    }
   ],
   "source": [
    "hmm.B"
   ]
  },
  {
   "cell_type": "markdown",
   "metadata": {},
   "source": [
    "---\n",
    "\n",
    "*This notebook was generated using [Literate.jl](https://github.com/fredrikekre/Literate.jl).*"
   ]
  }
 ],
 "metadata": {
  "kernelspec": {
   "display_name": "Julia 1.5.0-beta1",
   "language": "julia",
   "name": "julia-1.5"
  },
  "language_info": {
   "file_extension": ".jl",
   "mimetype": "application/julia",
   "name": "julia",
   "version": "1.5.0"
  }
 },
 "nbformat": 4,
 "nbformat_minor": 4
}
